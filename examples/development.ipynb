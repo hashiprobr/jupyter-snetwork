{
 "cells": [
  {
   "cell_type": "code",
   "execution_count": null,
   "id": "8b36e24f-6ee7-4873-b2f0-8558249bd44d",
   "metadata": {},
   "outputs": [],
   "source": [
    "import os"
   ]
  },
  {
   "cell_type": "code",
   "execution_count": null,
   "id": "b4f73261-77d4-4586-9b08-83e8a7a3d403",
   "metadata": {},
   "outputs": [],
   "source": [
    "os.environ['SNETWORK_CLIENT_URL'] = 'http://localhost:8080/main.js'"
   ]
  },
  {
   "cell_type": "code",
   "execution_count": null,
   "id": "c5cdf47e-c87f-4420-a6fc-9fc1c69ed03f",
   "metadata": {},
   "outputs": [],
   "source": [
    "import snetwork"
   ]
  },
  {
   "cell_type": "code",
   "execution_count": null,
   "id": "0c9ebf19-a110-4120-aaeb-53c90f37dba5",
   "metadata": {},
   "outputs": [],
   "source": [
    "HOST = '127.0.0.1'\n",
    "PORT = 8889"
   ]
  },
  {
   "cell_type": "code",
   "execution_count": null,
   "id": "017f3c4f-cd04-44c0-9c80-f5f59f0630cc",
   "metadata": {
    "editable": true,
    "slideshow": {
     "slide_type": ""
    },
    "tags": []
   },
   "outputs": [],
   "source": [
    "renderer = await snetwork.start(host=HOST, port=PORT)"
   ]
  },
  {
   "cell_type": "code",
   "execution_count": null,
   "id": "8c00a394-8e60-4b55-84f2-e1fd2fd44300",
   "metadata": {},
   "outputs": [],
   "source": [
    "await renderer.stop()"
   ]
  }
 ],
 "metadata": {
  "kernelspec": {
   "display_name": "Python 3 (ipykernel)",
   "language": "python",
   "name": "python3"
  },
  "language_info": {
   "codemirror_mode": {
    "name": "ipython",
    "version": 3
   },
   "file_extension": ".py",
   "mimetype": "text/x-python",
   "name": "python",
   "nbconvert_exporter": "python",
   "pygments_lexer": "ipython3",
   "version": "3.11.11"
  },
  "widgets": {
   "application/vnd.jupyter.widget-state+json": {
    "state": {},
    "version_major": 2,
    "version_minor": 0
   }
  }
 },
 "nbformat": 4,
 "nbformat_minor": 5
}
